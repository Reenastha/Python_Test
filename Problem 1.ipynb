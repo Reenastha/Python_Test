{
 "cells": [
  {
   "cell_type": "markdown",
   "id": "df87d49d",
   "metadata": {},
   "source": [
    "<h1> Problem 1 </h1>"
   ]
  },
  {
   "cell_type": "code",
   "execution_count": 1,
   "id": "655a47b0",
   "metadata": {},
   "outputs": [],
   "source": [
    "import math"
   ]
  },
  {
   "cell_type": "code",
   "execution_count": 2,
   "id": "b20e413d",
   "metadata": {},
   "outputs": [],
   "source": [
    "q = 40 # Design Discharge in cfs\n",
    "g = 32.2 # Axxeleration due to gravity in ft/s2\n",
    "Cd = 0.6 # Discharge coefficient"
   ]
  },
  {
   "cell_type": "code",
   "execution_count": 12,
   "id": "c997f245",
   "metadata": {},
   "outputs": [],
   "source": [
    "def f(D):\n",
    "    fD = D**5 - 12*(D**4) + ((16*(q**2))/((math.pi**2)*(Cd**2)*g))\n",
    "    return(fD)"
   ]
  },
  {
   "cell_type": "code",
   "execution_count": 15,
   "id": "9452ac3c",
   "metadata": {},
   "outputs": [],
   "source": [
    "def df(D):\n",
    "    fD1 = 5*D**4 - 12*4*D**3\n",
    "    return(fD1)"
   ]
  },
  {
   "cell_type": "code",
   "execution_count": 18,
   "id": "07d565a8",
   "metadata": {},
   "outputs": [
    {
     "name": "stdout",
     "output_type": "stream",
     "text": [
      "1:x= 5.947899716813214,f(x) = -7350.857099231764\n",
      "2:x= 4.034814266767222,f(x) = -1887.2493776773488\n",
      "3:x= 3.0022692857484747,f(x) = -507.264192980541\n",
      "4:x= 2.4340438280874652,f(x) = -112.0103678764572\n",
      "5:x= 2.217258997370868,f(x) = -12.683202340633414\n",
      "6:x= 2.1857385766236574,f(x) = -0.24158771186023387\n",
      "7:x= 2.1851144937146008,f(x) = -9.328747344738986e-05\n",
      "8:x= 2.1851142525429346,f(x) = -1.3983481039758772e-11\n",
      "\n",
      "Required diameter is: 2.18511425\n"
     ]
    }
   ],
   "source": [
    "i = 0\n",
    "tol = 1e-10\n",
    "D0 = 1\n",
    "Di_1 = D0\n",
    "while abs(f(Di_1))>tol :\n",
    "    i = i + 1\n",
    "    Di = Di_1 - f(Di_1)/df(Di_1)\n",
    "    Di_1 = Di\n",
    "    print( str(i) + ':' 'x= ' + str(Di) +',' 'f(x) = ' +  str(f(Di)))\n",
    "\n",
    "print('\\nRequired diameter is: %0.8f' % Di_1) "
   ]
  },
  {
   "cell_type": "code",
   "execution_count": null,
   "id": "7b19d7f3",
   "metadata": {},
   "outputs": [],
   "source": []
  },
  {
   "cell_type": "code",
   "execution_count": null,
   "id": "526698e1",
   "metadata": {},
   "outputs": [],
   "source": []
  }
 ],
 "metadata": {
  "kernelspec": {
   "display_name": "Python 3 (ipykernel)",
   "language": "python",
   "name": "python3"
  },
  "language_info": {
   "codemirror_mode": {
    "name": "ipython",
    "version": 3
   },
   "file_extension": ".py",
   "mimetype": "text/x-python",
   "name": "python",
   "nbconvert_exporter": "python",
   "pygments_lexer": "ipython3",
   "version": "3.9.12"
  }
 },
 "nbformat": 4,
 "nbformat_minor": 5
}
