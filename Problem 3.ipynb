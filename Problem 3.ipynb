{
 "cells": [
  {
   "cell_type": "markdown",
   "id": "51f07606",
   "metadata": {},
   "source": [
    "<h1> Problem 3 </h1>"
   ]
  },
  {
   "cell_type": "code",
   "execution_count": 1,
   "id": "c9166bc9",
   "metadata": {},
   "outputs": [],
   "source": [
    "def defUL(q,L,E,I):\n",
    "    \"\"\"Maximum deflection of a cantilever beam with uniform load L=length; E=elastic modulus; I=moment of inertia;\"\"\"\n",
    "    defU = (q*L**4)/(8*E*I)\n",
    "    return round(defU,4)"
   ]
  },
  {
   "cell_type": "code",
   "execution_count": 2,
   "id": "74892e38",
   "metadata": {},
   "outputs": [],
   "source": [
    "def maxdef(L,E,I,F,a):\n",
    "    \"\"\"Maximum deflection of a cantilever beam with point load L=length; E=elastic modulus; I=moment of inertia;\"\"\"\n",
    "    b = L - a\n",
    "    delx=(F*a**3)/(8*E*I)*(1+3*a/2*b) \n",
    "    return round(delx,4) # return the value"
   ]
  },
  {
   "cell_type": "code",
   "execution_count": 3,
   "id": "96a2a5d6",
   "metadata": {},
   "outputs": [],
   "source": [
    "L = 250000 # in cm\n",
    "q = 250  # in N/cm\n",
    "E = 200000 # in Pa\n",
    "I = 81960000 # in cm4"
   ]
  },
  {
   "cell_type": "code",
   "execution_count": 11,
   "id": "cb8ac20f",
   "metadata": {},
   "outputs": [
    {
     "data": {
      "text/plain": [
       "7446944393.6066"
      ]
     },
     "execution_count": 11,
     "metadata": {},
     "output_type": "execute_result"
    }
   ],
   "source": [
    "# For uniform load\n",
    "defUL = defUL(q,L,E,I)\n",
    "defUL"
   ]
  },
  {
   "cell_type": "code",
   "execution_count": 10,
   "id": "4dba420c",
   "metadata": {},
   "outputs": [
    {
     "data": {
      "text/plain": [
       "11915.111"
      ]
     },
     "execution_count": 10,
     "metadata": {},
     "output_type": "execute_result"
    }
   ],
   "source": [
    "# For point load A\n",
    "Fa = 100 # in kN\n",
    "aa = L\n",
    "maxdefA = maxdef(L,E,I,Fa,aa)\n",
    "maxdefA"
   ]
  },
  {
   "cell_type": "code",
   "execution_count": 9,
   "id": "f358dfbf",
   "metadata": {},
   "outputs": [
    {
     "data": {
      "text/plain": [
       "5490483164.0434"
      ]
     },
     "execution_count": 9,
     "metadata": {},
     "output_type": "execute_result"
    }
   ],
   "source": [
    "# For point load B\n",
    "Fb = 200 # in kN\n",
    "ab = 100*100 # in cm\n",
    "maxdefB = maxdef(L,E,I,Fb,ab)\n",
    "maxdefB"
   ]
  },
  {
   "cell_type": "code",
   "execution_count": 13,
   "id": "9a0b9dbd",
   "metadata": {},
   "outputs": [
    {
     "data": {
      "text/plain": [
       "12937439472.761"
      ]
     },
     "execution_count": 13,
     "metadata": {},
     "output_type": "execute_result"
    }
   ],
   "source": [
    "total_deflection = defUL + maxdefA + maxdefB\n",
    "total_deflection"
   ]
  },
  {
   "cell_type": "code",
   "execution_count": null,
   "id": "0911ba7a",
   "metadata": {},
   "outputs": [],
   "source": []
  }
 ],
 "metadata": {
  "kernelspec": {
   "display_name": "Python 3 (ipykernel)",
   "language": "python",
   "name": "python3"
  },
  "language_info": {
   "codemirror_mode": {
    "name": "ipython",
    "version": 3
   },
   "file_extension": ".py",
   "mimetype": "text/x-python",
   "name": "python",
   "nbconvert_exporter": "python",
   "pygments_lexer": "ipython3",
   "version": "3.9.12"
  }
 },
 "nbformat": 4,
 "nbformat_minor": 5
}
